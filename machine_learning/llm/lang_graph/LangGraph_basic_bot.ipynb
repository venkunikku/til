{
 "cells": [
  {
   "cell_type": "markdown",
   "id": "fe74dfc5-7ab2-46b8-9b5f-2dfa280cbc5e",
   "metadata": {},
   "source": [
    "# LangGraph Example\n",
    "\n",
    "### Before you start this notbook. \n",
    "Create a .env files in same place you have placed this notebook and add following two keys. You can get the API keys from respective website.  \n",
    "OPENAI_API_KEY=<<key>>  \n",
    "TAVILY_API_KEY=<<key>>"
   ]
  },
  {
   "cell_type": "code",
   "execution_count": 1,
   "id": "580d05b2-21c3-4686-a914-c3cd1847faf5",
   "metadata": {},
   "outputs": [],
   "source": [
    "\n",
    "import openai\n",
    "import re\n",
    "import httpx\n",
    "import os\n",
    "from dotenv import load_dotenv, dotenv_values\n",
    "import certifi\n",
    "import ssl\n",
    "import json\n",
    "\n",
    "ssl_context = ssl.create_default_context(cafile=certifi.where())\n",
    "os.environ[\"SSL_CERT_FILE\"] = certifi.where() # was getting a cert error with openAI. So had to do this.\n",
    "\n",
    "_ = load_dotenv()\n",
    "from openai import OpenAI"
   ]
  },
  {
   "cell_type": "code",
   "execution_count": 2,
   "id": "1d8ec02a-00c6-422b-9d54-8b8cf1a37205",
   "metadata": {},
   "outputs": [],
   "source": [
    "from dotenv import load_dotenv\n",
    "_ = load_dotenv()"
   ]
  },
  {
   "cell_type": "code",
   "execution_count": 3,
   "id": "015406b0-cedf-493b-8c8b-2179f10a7dfe",
   "metadata": {},
   "outputs": [],
   "source": [
    "# for k,v in os.environ.items():\n",
    "#     print(k,v)"
   ]
  },
  {
   "cell_type": "code",
   "execution_count": 4,
   "id": "36fd98bc-e0e8-4133-8509-e0cda3f5c77c",
   "metadata": {},
   "outputs": [],
   "source": [
    "from langgraph.graph import StateGraph, END\n",
    "from typing import TypedDict, Annotated\n",
    "import operator\n",
    "from langchain_core.messages import AnyMessage, SystemMessage, HumanMessage, ToolMessage\n",
    "from langchain_openai import ChatOpenAI\n",
    "from langchain_community.tools.tavily_search import TavilySearchResults\n",
    "from langchain.schema.runnable import RunnableLambda\n",
    "from pydantic import BaseModel\n",
    "from langchain.tools import Tool"
   ]
  },
  {
   "cell_type": "markdown",
   "id": "0c1ca194-41e5-4a69-8c3c-aa53aef10476",
   "metadata": {},
   "source": [
    "This is one of the tool we provide to the LangChain"
   ]
  },
  {
   "cell_type": "code",
   "execution_count": 5,
   "id": "c383aee7-cc74-4bcd-b5c1-208e8b7a9f44",
   "metadata": {},
   "outputs": [
    {
     "name": "stdout",
     "output_type": "stream",
     "text": [
      "<class 'langchain_community.tools.tavily_search.tool.TavilySearchResults'>\n",
      "tavily_search_results_json\n"
     ]
    }
   ],
   "source": [
    "tool = TavilySearchResults(max_results=4) #increased number of results\n",
    "print(type(tool))\n",
    "print(tool.name)"
   ]
  },
  {
   "cell_type": "code",
   "execution_count": 6,
   "id": "b87ef1eb-aa7f-411b-ad77-f98f071c1360",
   "metadata": {},
   "outputs": [],
   "source": [
    "class AgentState(TypedDict):\n",
    "    messages: Annotated[list[AnyMessage], operator.add]"
   ]
  },
  {
   "cell_type": "code",
   "execution_count": 7,
   "id": "d01d8672-2353-4016-9512-91258dbc23a5",
   "metadata": {},
   "outputs": [],
   "source": [
    "class Agent:\n",
    "    def __init__(self, model, tools, system=\"\"):\n",
    "        # initilal prompt\n",
    "        self.system = system\n",
    "        # Creating a state graph\n",
    "        graph = StateGraph(AgentState)\n",
    "        # adding a LLM node. Basically this calls the LLM \n",
    "        graph.add_node('llm',self.llm_action)\n",
    "        # adding another node called action. \n",
    "        # Based on what LLM responds we will take further actions\n",
    "        graph.add_node('action',self.take_action)\n",
    "\n",
    "        # We are adding a conditional edge. If LLM is done with all tool_calls we just \n",
    "        # mark it END and retrun the final response to user.\n",
    "        graph.add_conditional_edges(\n",
    "            'llm',\n",
    "            self.condition_check,\n",
    "            {True: \"action\", False: END}\n",
    "        )\n",
    "        # We are connecting action node and LLM node in the graph\n",
    "        graph.add_edge('action', 'llm')\n",
    "        graph.set_entry_point('llm')\n",
    "\n",
    "        self.graph = graph.compile()\n",
    "\n",
    "        # all tools names given to the class\n",
    "        self.tools = {t.name: t for t in tools}\n",
    "        # looks like all model class will have bind_tools\n",
    "        self.model = model.bind_tools(tools) \n",
    "\n",
    "    def condition_check(self, state: AgentState):\n",
    "        message = state[\"messages\"][-1]\n",
    "        # tool_calls is what we get back from OpenAI\n",
    "        return len(message.tool_calls) > 0\n",
    "\n",
    "    def llm_action(self, state: AgentState):\n",
    "        messages = state[\"messages\"]\n",
    "        if self.system:\n",
    "            # for every request you are adding a Prompt if present\n",
    "            messages = [SystemMessage(content=self.system)] + messages\n",
    "        \n",
    "        # you are invoking LLM here\n",
    "        message = self.model.invoke(messages)\n",
    "        return {\"messages\":[message]}\n",
    "\n",
    "    def take_action(self, state: AgentState):\n",
    "        # check if there are any tool calls\n",
    "        tool_calls = state['messages'][-1].tool_calls\n",
    "        # results of the tool calls\n",
    "        results = []\n",
    "        for tool in tool_calls:\n",
    "            if not tool['name'] in self.tools:\n",
    "                # telling the LLM to Try again\n",
    "                result = \"bad tool try again\"\n",
    "            else:\n",
    "                result = self.tools[tool['name']].invoke(tool['args'])\n",
    "            tool_msg = ToolMessage(tool_call_id=tool['id'], name=tool['name'], content=str(result))\n",
    "            results.append(tool_msg)\n",
    "        print(f\"Take action results:{results}\")\n",
    "        return {'messages':results}"
   ]
  },
  {
   "cell_type": "code",
   "execution_count": 8,
   "id": "1e09d0af-ef8c-4f8a-9d2b-d33c532ce45f",
   "metadata": {},
   "outputs": [],
   "source": [
    "def order_status(name):\n",
    "    print(f\"Pulling orders status for: {name}\")\n",
    "    if name in \"1234599\": \n",
    "        return(f\"Order status for {name} at zip 28269 is ready for pickup\")\n",
    "    \n",
    "    elif name in \"123455\":\n",
    "        return(\"Order is in progress and will be delivered to 60502 soon\")\n",
    "    elif name in \"123465\":\n",
    "        return(f\"Order status for {name} at zip  is ready for pickup\")\n",
    "    elif name in \"123459\":\n",
    "        return(f\"Order status for {name} is ready to be delivered to 60502 soon\")\n",
    "    else:\n",
    "        return(\"Unknown at this time.\")\n",
    "\n",
    "\n",
    "\n",
    "class OrderStatusInput(BaseModel):\n",
    "    name: str\n",
    "\n",
    "# Ensure the function correctly extracts the order ID\n",
    "def order_status_handler(input):\n",
    "    if isinstance(input, dict):  \n",
    "        name = input.get(\"name\", \"\")\n",
    "    elif isinstance(input, OrderStatusInput):  \n",
    "        name = input.name\n",
    "    elif isinstance(input, str):  \n",
    "        name = input\n",
    "    else:  \n",
    "        raise ValueError(\"Invalid input type for order_status\")\n",
    "\n",
    "    return order_status(name)  # Call the actual function\n",
    "\n",
    "order_status_tool = Tool(\n",
    "    name=\"order_status\",\n",
    "    func=order_status_handler,  \n",
    "    description=\"Fetches the order status given an order ID.\",\n",
    "    args_schema=OrderStatusInput  \n",
    ")\n"
   ]
  },
  {
   "cell_type": "code",
   "execution_count": 9,
   "id": "31e2ce26-ce31-451b-9bce-1a6090027312",
   "metadata": {},
   "outputs": [],
   "source": [
    "# MODEL = 'gpt-3.5-turbo'\n",
    "# MODEL = 'o3-mini' \n",
    "MODEL = 'gpt-4o'"
   ]
  },
  {
   "cell_type": "code",
   "execution_count": 10,
   "id": "5a19e0a8-ad0e-4d51-971d-0229dbf4bbcf",
   "metadata": {},
   "outputs": [],
   "source": [
    "tool = TavilySearchResults(max_results=1) \n",
    "model = ChatOpenAI(model=MODEL)"
   ]
  },
  {
   "cell_type": "code",
   "execution_count": 11,
   "id": "71649349-afc9-450c-aa00-a4494dd92a44",
   "metadata": {},
   "outputs": [],
   "source": [
    "# prompt = \"\"\"You are a smart research assistant. Use the search engine to look up information. \\\n",
    "# You are allowed to make multiple calls (either together or in sequence). \\\n",
    "# Only look up information when you are sure of what you want. \\\n",
    "# If you need to look up some information before asking a follow up question, you are allowed to do that!\n",
    "# If there is an order number then call order_status. If there is zip then call the tavily_search_results_json for latest weather info like what is the weather like for zip 60502. \n",
    "# Any other request just response it cannot be done politely.\n",
    "# \"\"\"\n",
    "prompt = \"\"\"You are retail ecom bot agent. You are capabale of giving order status info along with weather based on the order zip availability. \n",
    "Order Zip will be returned by order_status and not consider the zip code provided by users.\n",
    "Any other request you get you politely says sorry and can't be processed\n",
    "\n",
    "Your available function are:\n",
    "\n",
    "order_status\n",
    "\n",
    "tavily_search_results_json\n",
    "\n",
    "For example:\n",
    "User ask what is the stauts of my order number 123454\n",
    "\n",
    "Tool responds with order status for 123454 at zip 60503 is ready for pick up\n",
    "\n",
    "If you see a zip in tool response then make a call to tavily_search_results_json to get weather for 60502\n",
    "And finally respond to user You order 123454 is ready for pick at 60503 and weaterh is sunny and good to pick it up\n",
    "\n",
    "You then output:\n",
    "Order status for 12345 at zip 60502 is ready for pickup and the weather details are...\n",
    "\n",
    "If there is any missing information from the tool you just respond back with the last available information from the tool. \n",
    "\"\"\"\n",
    "\n",
    "# model = ChatOpenAI(model=\"gpt-3.5-turbo\")  #reduce inference cost\n",
    "abot = Agent(model, [tool, order_status_tool], system=prompt)"
   ]
  },
  {
   "cell_type": "code",
   "execution_count": 12,
   "id": "ec6c474e-ad34-499a-9da9-6762d65f2837",
   "metadata": {},
   "outputs": [
    {
     "data": {
      "image/png": "[encoded data removed]",
      "text/plain": [
       "<IPython.core.display.Image object>"
      ]
     },
     "execution_count": 12,
     "metadata": {},
     "output_type": "execute_result"
    }
   ],
   "source": [
    "from IPython.display import Image\n",
    "\n",
    "Image(abot.graph.get_graph().draw_png())"
   ]
  },
  {
   "cell_type": "code",
   "execution_count": 13,
   "id": "067a09e8-9f60-45a9-9dce-fbef06f204f3",
   "metadata": {},
   "outputs": [
    {
     "name": "stdout",
     "output_type": "stream",
     "text": [
      "Pulling orders status for: 1234599\n",
      "Take action results:[ToolMessage(content='Order status for 1234599 at zip 28269 is ready for pickup', name='order_status', tool_call_id='call_vLImS0TGB8jq7NL43xxahR77')]\n",
      "Take action results:[ToolMessage(content='[{\\'title\\': \\'Weather in 28269\\', \\'url\\': \\'https://www.weatherapi.com/\\', \\'content\\': \"{\\'location\\': {\\'name\\': \\'Charlotte\\', \\'region\\': \\'North Carolina\\', \\'country\\': \\'USA\\', \\'lat\\': 35.2886009216309, \\'lon\\': -80.8208999633789, \\'tz_id\\': \\'America/New_York\\', \\'localtime_epoch\\': 1741920519, \\'localtime\\': \\'2025-03-13 22:48\\'}, \\'current\\': {\\'last_updated_epoch\\': 1741920300, \\'last_updated\\': \\'2025-03-13 22:45\\', \\'temp_c\\': 18.9, \\'temp_f\\': 66.0, \\'is_day\\': 0, \\'condition\\': {\\'text\\': \\'Partly cloudy\\', \\'icon\\': \\'//cdn.weatherapi.com/weather/64x64/night/116.png\\', \\'code\\': 1003}, \\'wind_mph\\': 3.6, \\'wind_kph\\': 5.8, \\'wind_degree\\': 225, \\'wind_dir\\': \\'SW\\', \\'pressure_mb\\': 1014.0, \\'pressure_in\\': 29.93, \\'precip_mm\\': 0.0, \\'precip_in\\': 0.0, \\'humidity\\': 40, \\'cloud\\': 50, \\'feelslike_c\\': 18.9, \\'feelslike_f\\': 66.0, \\'windchill_c\\': 17.9, \\'windchill_f\\': 64.2, \\'heatindex_c\\': 18.0, \\'heatindex_f\\': 64.5, \\'dewpoint_c\\': 11.9, \\'dewpoint_f\\': 53.3, \\'vis_km\\': 13.0, \\'vis_miles\\': 8.0, \\'uv\\': 0.0, \\'gust_mph\\': 7.5, \\'gust_kph\\': 12.1}}\", \\'score\\': 0.5594205}]', name='tavily_search_results_json', tool_call_id='call_939TsjXErnO89cNC5OpArfZb')]\n"
     ]
    }
   ],
   "source": [
    "messages = [HumanMessage(content=\"What is the status of my order 1234599 ?\")]\n",
    "result = abot.graph.invoke({\"messages\": messages})"
   ]
  },
  {
   "cell_type": "code",
   "execution_count": 14,
   "id": "701c0ea4-9b62-45cd-933a-90f4705fc5fc",
   "metadata": {},
   "outputs": [
    {
     "data": {
      "text/plain": [
       "'Your order 1234599 is ready for pickup at zip 28269. The weather there is partly cloudy with a temperature of 66°F, making it a good time to pick up your order.'"
      ]
     },
     "execution_count": 14,
     "metadata": {},
     "output_type": "execute_result"
    }
   ],
   "source": [
    "result[\"messages\"][-1].content"
   ]
  },
  {
   "cell_type": "code",
   "execution_count": null,
   "id": "595dd571-2033-4eab-ba9e-9481e210f653",
   "metadata": {},
   "outputs": [],
   "source": []
  }
 ],
 "metadata": {
  "kernelspec": {
   "display_name": "Python 3 (ipykernel)",
   "language": "python",
   "name": "python3"
  },
  "language_info": {
   "codemirror_mode": {
    "name": "ipython",
    "version": 3
   },
   "file_extension": ".py",
   "mimetype": "text/x-python",
   "name": "python",
   "nbconvert_exporter": "python",
   "pygments_lexer": "ipython3",
   "version": "3.11.11"
  }
 },
 "nbformat": 4,
 "nbformat_minor": 5
}
