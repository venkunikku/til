{
 "cells": [
  {
   "cell_type": "markdown",
   "id": "39bc2988-99df-4ae4-a77b-f50b5041d632",
   "metadata": {},
   "source": [
    "\n",
    "### Before you start this notbook. \n",
    "Create a .env files in same place you have placed this notebook and add following two keys. You can get the API keys from respective website.  \n",
    "OPENAI_API_KEY=<<key>>   \n",
    "FIRECRAWL_API_KEY=<<key>>  "
   ]
  },
  {
   "cell_type": "code",
   "execution_count": null,
   "id": "e487d404-dbb1-403b-ae5e-8da12c88ce46",
   "metadata": {},
   "outputs": [],
   "source": [
    "from dotenv import load_dotenv, dotenv_values\n",
    "import certifi\n",
    "import ssl\n",
    "import os\n",
    "import json\n",
    "\n",
    "ssl_context = ssl.create_default_context(cafile=certifi.where())\n",
    "os.environ[\"SSL_CERT_FILE\"] = certifi.where()\n",
    "\n",
    "_ = load_dotenv()\n",
    "\n",
    "from openai import OpenAI"
   ]
  },
  {
   "cell_type": "code",
   "execution_count": 2,
   "id": "4179998d-8fd4-4a2b-a34e-b47b477365bd",
   "metadata": {},
   "outputs": [],
   "source": [
    "from langgraph.graph import StateGraph, END, START\n",
    "from langchain_core.messages import AnyMessage, SystemMessage, HumanMessage, ToolMessage\n",
    "from langchain_openai import ChatOpenAI\n",
    "from pydantic import BaseModel\n",
    "from langchain_core import tools\n",
    "from langchain_community.document_loaders.firecrawl import FireCrawlLoader\n",
    "from langchain_text_splitters import RecursiveCharacterTextSplitter\n",
    "\n",
    "from firecrawl import FirecrawlApp\n",
    "import requests\n",
    "from bs4 import BeautifulSoup, Comment\n",
    "\n",
    "from langchain_core.documents import Document\n",
    "\n",
    "from langchain_openai import OpenAIEmbeddings\n",
    "# pip install -qU langchain-chroma\n",
    "from langchain_chroma import Chroma"
   ]
  },
  {
   "cell_type": "markdown",
   "id": "efba2808-ec19-4211-b9d6-e2b9ae34f50c",
   "metadata": {},
   "source": [
    "# Crawling website data"
   ]
  },
  {
   "cell_type": "code",
   "execution_count": 3,
   "id": "cf055fd4-e2c8-466e-9373-1cafa5fe6a9d",
   "metadata": {},
   "outputs": [],
   "source": [
    "list_of_urls_to_crawl= [\n",
    "    \"https://www.americanfreight.com/pdp/hershey-navy-sectional-2-piece-set/392866?uid=67155038&w=al-p-il\",\n",
    "    \"https://www.americanfreight.com/pdp/groovy-navy-2-piece-sectional/363175?uid=67155064&w=al-p-il\",\n",
    "    \"https://www.americanfreight.com/pdp/gretna-grey-2-piece-sectional/389997?uid=67155016&w=al-p-il\",\n",
    "    \"https://www.americanfreight.com/pdp/haven-chocolate-sectional/392918?uid=67155067&w=al-p-il\",\n",
    "    \"https://www.americanfreight.com/pdp/zoey-indigo-loveseat/389272?uid=67155027&w=al-p-il\",\n",
    "    \"https://www.americanfreight.com/pdp/hershey-pebble-loveseat/392795?uid=67155036&w=al-p-il\",\n",
    "    \"https://www.americanfreight.com/pdp/archer-pewter-loveseat/392748?uid=67154997&w=al-p-il\",\n",
    "    \"https://www.americanfreight.com/pdp/fletcher-ottoman/391648?uid=67155046&w=al-p-il\",\n",
    "    \"https://www.americanfreight.com/pdp/tide-cloud-storage-ottoman/359839?uid=67155039&w=al-p-il\",\n",
    "    \"https://www.americanfreight.com/pdp/gretna-grey-ottoman/390531?uid=67155015&w=al-p-il\"\n",
    "]"
   ]
  },
  {
   "cell_type": "code",
   "execution_count": 4,
   "id": "aaaa1524-b3bc-46c0-af9e-0dfcb49d6c72",
   "metadata": {},
   "outputs": [],
   "source": [
    "def get_description_and_specfication(url: str) -> dict:\n",
    "    try:\n",
    "        response_website = requests.get(url)\n",
    "\n",
    "        response_website_str = response_website.content.decode('utf-8')\n",
    "        soup = BeautifulSoup(response_website_str, 'html.parser')\n",
    "        for comment in soup.find_all(string=lambda text: isinstance(text, Comment)):\n",
    "            comment.extract()        \n",
    "        overview = soup.find(\"div\", id=\"pdp--overview-content\")\n",
    "        specification = soup.find('div', id=\"specs--show-more-container\")\n",
    "\n",
    "        return {\"page_content\": f' \"Overview\" + {overview.getText()} \\n url {url} \\n\\n\\n \"Specification\" {specification.getText()}', \"metadata\":{\"url\": url}}\n",
    "    except Exception as e:\n",
    "        print(f\"Exception: {e}\")"
   ]
  },
  {
   "cell_type": "code",
   "execution_count": 5,
   "id": "99084d2e-271d-4248-919f-2b00c79d82eb",
   "metadata": {},
   "outputs": [],
   "source": [
    "def get_description_and_specfication_firecrawl(url: str) -> str:\n",
    "    url = \"https://api.firecrawl.dev/v1/scrape\"\n",
    "    headers = {\n",
    "        \"Content-Type\": \"application/json\",\n",
    "        \"Authorization\": f'Bearer {os.getenv(\"FIRECRAWL_API_KEY\")}'\n",
    "    }\n",
    "    payload = {\n",
    "        \"url\": url,\n",
    "        \"formats\": [\"json\"],\n",
    "        \"jsonOptions\": {\n",
    "            \"prompt\": \"Extract Item overview and specification\"\n",
    "        }\n",
    "    }\n",
    "    response = requests.post(url, headers=headers, json=payload)\n",
    "    response_json = response.json()\n",
    "    return response_json['data']['json']['itemOverview'] + \"\\n\\n\" + get_specification_in_str_frmt(response_json['data']['json']['specifications'])\n",
    "\n",
    "def get_specification_in_str_frmt(specs: list[dict]):\n",
    "    specs_str = ''\n",
    "    if len(specs):\n",
    "        for each_dict in specs:\n",
    "            specs_str += f'{each_dict[\"specificationName\"]}: {each_dict[\"specificationValue\"]} \\n'\n",
    "        return specs_str"
   ]
  },
  {
   "cell_type": "code",
   "execution_count": 6,
   "id": "60354090-1510-43c4-8f69-00f0b08d30b8",
   "metadata": {},
   "outputs": [],
   "source": [
    "# get_description_and_specfication_firecrawl(\"https://www.americanfreight.com/pdp/gretna-grey-ottoman/390531?uid=67155015&w=al-p-il\")"
   ]
  },
  {
   "cell_type": "code",
   "execution_count": 7,
   "id": "69703a10-a27a-4236-8f7c-aa9e360ff712",
   "metadata": {},
   "outputs": [],
   "source": [
    "# dict_list = [{'specificationName': 'ASSEMBLY REQUIRED', 'specificationValue': 'YES'}, {'specificationName': 'COLOR FAMILY', 'specificationValue': 'Blue'}, {'specificationName': 'CUSTOM DIMENSIONS', 'specificationValue': \"76''W X 34''D X 36''H\"}, {'specificationName': 'INCLUDES', 'specificationValue': 'Sofa'}, {'specificationName': 'MATERIAL', 'specificationValue': 'Polyester'}, {'specificationName': 'PIECE', 'specificationValue': 'Sofa'}, {'specificationName': 'STYLE', 'specificationValue': 'Casual'}, {'specificationName': 'WARRANTY', 'specificationValue': '1 Year Manufacturers Limited Warranty'}]"
   ]
  },
  {
   "cell_type": "markdown",
   "id": "b741fd67-69ec-43de-90fa-feb021489eae",
   "metadata": {},
   "source": [
    "### Testing get_description_and_specfication"
   ]
  },
  {
   "cell_type": "code",
   "execution_count": 8,
   "id": "02cc1462-39ba-4c21-aabb-549f745f6252",
   "metadata": {},
   "outputs": [
    {
     "data": {
      "text/plain": [
       "{'page_content': ' \"Overview\" + Kick your feet up and unwind with the Gretna Grey Ottoman. This vibrant, cozy ottoman allows you a place to stretch your legs and offers additional seating for guests. Made with a CertiPur foam seat core, it offers exceptional comfort. Take home this ottoman today and pair it with the matching sofa and loveseat set for a complete look.\\n Certipur foam seat cores\\n Contains Wood Products certified by the Sustainable Forest Initiative \\n  Price Includes: 1 Ottoman \\n url https://www.americanfreight.com/pdp/gretna-grey-ottoman/390531?uid=67155015&w=al-p-il \\n\\n\\n \"Specification\" SpecificationsASSEMBLY REQUIRED\\xa0\\xa0\\xa0YESCOLOR FAMILY\\xa0\\xa0\\xa0GreyCUSTOM DIMENSIONS\\xa0\\xa0\\xa041\\'\\'W  X  25\\'\\'D  X  21\\'\\'HFINISH\\xa0\\xa0\\xa0PewterINCLUDES\\xa0\\xa0\\xa0OttomanMATERIAL\\xa0\\xa0\\xa0PolyesterPIECE\\xa0\\xa0\\xa0OttomanSTYLE\\xa0\\xa0\\xa0Modern/ContemporaryWARRANTY\\xa0\\xa0\\xa01 Year Manufacturers Limited Warranty',\n",
       " 'metadata': {'url': 'https://www.americanfreight.com/pdp/gretna-grey-ottoman/390531?uid=67155015&w=al-p-il'}}"
      ]
     },
     "execution_count": 8,
     "metadata": {},
     "output_type": "execute_result"
    }
   ],
   "source": [
    "get_description_and_specfication(\"https://www.americanfreight.com/pdp/gretna-grey-ottoman/390531?uid=67155015&w=al-p-il\")"
   ]
  },
  {
   "cell_type": "markdown",
   "id": "74188c1f-bc4a-41e0-8562-c920ebf0a415",
   "metadata": {},
   "source": [
    "# Vector store"
   ]
  },
  {
   "cell_type": "markdown",
   "id": "aec79b06-9c56-40c7-bf6e-d8053763e67b",
   "metadata": {},
   "source": [
    "## Creating langchain sepcific document object"
   ]
  },
  {
   "cell_type": "code",
   "execution_count": 9,
   "id": "5f0964e8-89e5-48cb-9553-86a44be79d3c",
   "metadata": {},
   "outputs": [],
   "source": [
    "all_docs = []\n",
    "\n",
    "for url in list_of_urls_to_crawl:\n",
    "    details = get_description_and_specfication(url)\n",
    "    if details:\n",
    "        document = Document(\n",
    "            page_content=details[\"page_content\"],\n",
    "            metadata=details[\"metadata\"]\n",
    "        )\n",
    "        all_docs.append(document)"
   ]
  },
  {
   "cell_type": "code",
   "execution_count": 10,
   "id": "01af2814-918f-4222-a703-a2001a5f567c",
   "metadata": {},
   "outputs": [
    {
     "data": {
      "text/plain": [
       "10"
      ]
     },
     "execution_count": 10,
     "metadata": {},
     "output_type": "execute_result"
    }
   ],
   "source": [
    "len(all_docs)"
   ]
  },
  {
   "cell_type": "code",
   "execution_count": 80,
   "id": "bf7923ac-9c52-4c73-890f-e57b63d08d9c",
   "metadata": {},
   "outputs": [
    {
     "data": {
      "text/plain": [
       "Document(metadata={'url': 'https://www.americanfreight.com/pdp/hershey-navy-sectional-2-piece-set/392866?uid=67155038&w=al-p-il'}, page_content=' \"Overview\" + Embrace the comfort of the Hershey Navy 2-Piece Sectional. It\\'s beautiful navy cover fabric, complemented by accent pillows, effortlessly suits various styles & is made of durable polyester cloth. \\nAccent pillows included (2)\\nPrice Includes: Complete Sectional \\n url https://www.americanfreight.com/pdp/hershey-navy-sectional-2-piece-set/392866?uid=67155038&w=al-p-il \\n\\n\\n \"Specification\" SpecificationsASSEMBLY REQUIRED\\xa0\\xa0\\xa0YESCOLLECTIONS\\xa0\\xa0\\xa02pc. CollectionCOLOR FAMILY\\xa0\\xa0\\xa0BlueCUSTOM DIMENSIONS\\xa0\\xa0\\xa0108\\'\\'W X 77\\'\\'D X 39\\'\\'HINCLUDES\\xa0\\xa0\\xa01 SectionalMATERIAL\\xa0\\xa0\\xa0PolyesterSTYLE\\xa0\\xa0\\xa0CasualWARRANTY\\xa0\\xa0\\xa01 Year Manufacturers Limited Warranty')"
      ]
     },
     "execution_count": 80,
     "metadata": {},
     "output_type": "execute_result"
    }
   ],
   "source": [
    "all_docs[0]"
   ]
  },
  {
   "cell_type": "markdown",
   "id": "b2bbd2ce-5fa9-4cb0-8e99-991c5053da43",
   "metadata": {},
   "source": [
    "# Creating Embeddings using OpenAI"
   ]
  },
  {
   "cell_type": "code",
   "execution_count": 12,
   "id": "4ed8dd39-7fb0-4404-aa9d-1e9ad0ded180",
   "metadata": {},
   "outputs": [],
   "source": [
    "embeddings = OpenAIEmbeddings(model=\"text-embedding-3-large\")\n",
    "\n",
    "vector_store = Chroma(\n",
    "    collection_name=\"site_search\",\n",
    "    embedding_function=embeddings,\n",
    "    persist_directory=\"./chroma_searcj_langchain_db\",  # Where to save data locally, remove if not necessary\n",
    ")"
   ]
  },
  {
   "cell_type": "code",
   "execution_count": 13,
   "id": "0b0d4bbd-32f6-4db3-a495-1300145c6034",
   "metadata": {},
   "outputs": [],
   "source": [
    "ids = vector_store.add_documents(documents=all_docs)"
   ]
  },
  {
   "cell_type": "code",
   "execution_count": 14,
   "id": "b0c39212-5aec-4128-8773-a2dcf6439845",
   "metadata": {},
   "outputs": [
    {
     "data": {
      "text/plain": [
       "['81df7741-6d06-40da-a3cc-f4f6d7850c6f',\n",
       " '1d05b1b5-c35a-4766-ae3e-4f8d468cb677',\n",
       " '20f01c69-f3c4-4bf4-984d-28a78501a880',\n",
       " '24af3a17-fbf7-4b63-9397-44057f90858a',\n",
       " 'bf4ff369-1216-4597-9bdb-0f1fba921d56',\n",
       " 'bbd87ebf-dc79-4053-8c77-acd5129c93ab',\n",
       " '34447cb6-8dd2-4899-9f44-ed9810330303',\n",
       " '7f9d4fba-a0c2-4e71-9d9a-462416a9bdef',\n",
       " '3868beec-25be-4c99-aaec-79041114e613',\n",
       " 'f6f70699-cbb1-460f-a1d1-af8991aa077b']"
      ]
     },
     "execution_count": 14,
     "metadata": {},
     "output_type": "execute_result"
    }
   ],
   "source": [
    "ids"
   ]
  },
  {
   "cell_type": "markdown",
   "id": "f0262378-0fde-4f71-aaa9-79cf806f2b0c",
   "metadata": {},
   "source": [
    "### Testing Semantic Search"
   ]
  },
  {
   "cell_type": "code",
   "execution_count": 15,
   "id": "79de9e3a-0d31-493d-8d3e-5f63e44e187b",
   "metadata": {},
   "outputs": [],
   "source": [
    "results = vector_store.similarity_search(\n",
    "    \"blue living room\")"
   ]
  },
  {
   "cell_type": "code",
   "execution_count": 17,
   "id": "f23c6703-ec98-45df-a3bd-4f6829d4dad6",
   "metadata": {},
   "outputs": [
    {
     "data": {
      "text/plain": [
       "list"
      ]
     },
     "execution_count": 17,
     "metadata": {},
     "output_type": "execute_result"
    }
   ],
   "source": [
    "type(results)"
   ]
  },
  {
   "cell_type": "code",
   "execution_count": 18,
   "id": "4a886459-04f5-4fd3-8e86-1147c744d36a",
   "metadata": {},
   "outputs": [
    {
     "data": {
      "text/plain": [
       "Document(id='c2f3ab02-2b7f-467c-9897-6de73d237d08', metadata={'url': 'https://www.americanfreight.com/pdp/zoey-indigo-loveseat/389272?uid=67155027&w=al-p-il'}, page_content=\"OverviewInfuse your living space with a captivating burst of flair and color with the Zoey Indigo Loveseat. Its striking indigo polyester upholstery brings a burst of color and charm. Sink into the softness of the plush pillows, ensuring optimal support for your movie nights and moments of relaxation. The loveseat's track arms and tapered legs exude a modern and sleek vibe. Complete the ensemble with the included contrasting accent pillows, adding a touch of style. Take home the Zoey Indigo Sofa to complete the ensemble. Embrace both style and comfort by making this loveseat yours today!\\n Accent pillows included\\n Track arms\\n Contemporary casual\\n  Price Includes: 1 Loveseat\\n\\n\\nSpecificationSpecificationsASSEMBLY REQUIRED\\xa0\\xa0\\xa0YESCOLOR FAMILY\\xa0\\xa0\\xa0BlueCUSTOM DIMENSIONS\\xa0\\xa0\\xa054''W  X  34''D  X  36''HINCLUDES\\xa0\\xa0\\xa0LoveseatMATERIAL\\xa0\\xa0\\xa0PolyesterPIECE\\xa0\\xa0\\xa0LoveseatSTYLE\\xa0\\xa0\\xa0CasualWARRANTY\\xa0\\xa0\\xa01 Year Manufacturers Limited Warranty\")"
      ]
     },
     "execution_count": 18,
     "metadata": {},
     "output_type": "execute_result"
    }
   ],
   "source": [
    "results[0]"
   ]
  },
  {
   "cell_type": "markdown",
   "id": "4756cd26-1898-4719-9f7f-0569aea411a8",
   "metadata": {},
   "source": [
    "# Multi-Agent creation"
   ]
  },
  {
   "cell_type": "code",
   "execution_count": 19,
   "id": "e66ed03e-a7f6-4c9a-8b5e-61b885b80bfe",
   "metadata": {},
   "outputs": [],
   "source": [
    "MODEL = 'gpt-4o'\n",
    "model = ChatOpenAI(model=MODEL)\n",
    "\n",
    "from langchain_core.prompts import ChatPromptTemplate\n",
    "from typing import TypedDict"
   ]
  },
  {
   "cell_type": "code",
   "execution_count": 20,
   "id": "281e0c37-674a-46b3-b921-8554fe1720d6",
   "metadata": {},
   "outputs": [],
   "source": [
    "prompt_final = '''\n",
    "You are smart home decorator and designer. You will be provided with secarios to build a room or whole hours and you are required to use the square feet \n",
    "if given and use the dimension of the furniture to design the house. You can use all different decoration or design patterns like\n",
    "mid-century modery, Rustic, framhouse, scandinavian, minimalism, art deco. You will be proivded with description and sepcification of the furniture items\n",
    "and you decide each piece of furniture to match the what cusomter is asking and also provid additional suggestion apart from what customer asked.\n",
    "\n",
    "Question: {question}\n",
    "Context: {context}\n",
    "Answer:\n",
    "\n",
    "Here is an example of the input:\n",
    "Question: I would like to design a living room with blue shades and rustic look with a sq of 200\n",
    "Context: [Document(page_content=\"soft sofa with blue that can sit 4 and its specification CUSTOM DIMENSIONS | 76''W X 34''D X 36''H \",\n",
    "    metadata={{\"url\":\"https://urls.com\"}}),\n",
    "    Document(page_content=\"soft blue ottoman  specification CUSTOM DIMENSIONS | 76''W X 34''D X 36''H \",\n",
    "    metadata={{\"url\":\"https://urls.com\"}})\n",
    "    ]\n",
    "\n",
    "Here is an example of the Output:\n",
    "Recommendation: You can use following soft sofat in blue in combination with Ottoman that is a blue shade to make the room look rustic. Soft sofa is of\n",
    "following dimenions XXX and ottoman is of the following dimension XXX and should easily fit the squre feet provided. Below are the suggested items for you room look.\n",
    "Total space: Calculate the total space needed from dimension\n",
    "Urls: 1. Sofa - url 2. Ottoman - url\n",
    "'''.strip()"
   ]
  },
  {
   "cell_type": "code",
   "execution_count": 78,
   "id": "b49337e4-665f-4fd9-9a54-110bffbc6ac1",
   "metadata": {},
   "outputs": [],
   "source": [
    "prompt_vector_searh_string = '''\n",
    "You are a smart interior decoratoer who can pull common words that are useful for building colors and furniture based on the sentence provided.\n",
    "You will return all the key words required to build a semantic search query so related items can be provided based on the response you provide later.\n",
    "Apart from the keyword you can include other colors that complement them so a proper semantic search with all the items can be queried\n",
    "\n",
    "Question: {question}\n",
    "\n",
    "Example:\n",
    "Question: I would like to design a living room with blue shades and rustic look with a sq of 200\n",
    "Response:  Living room blue shades rustic square feet 200\n",
    "\n",
    "'''.strip()"
   ]
  },
  {
   "cell_type": "code",
   "execution_count": 54,
   "id": "bb899139-a315-4c99-8f39-f0120e11d578",
   "metadata": {},
   "outputs": [],
   "source": [
    "prompt_template_vector_search_string = ChatPromptTemplate([\n",
    "    (\"system\", prompt_vector_searh_string),\n",
    " \n",
    "])"
   ]
  },
  {
   "cell_type": "code",
   "execution_count": 55,
   "id": "54cce2e6-ea66-4bbe-8699-051553b8e734",
   "metadata": {},
   "outputs": [],
   "source": [
    "prompt_template = ChatPromptTemplate([\n",
    "    (\"system\", prompt_final),\n",
    " \n",
    "])"
   ]
  },
  {
   "cell_type": "code",
   "execution_count": 56,
   "id": "01c925da-7568-4a92-a591-a85e863ff448",
   "metadata": {},
   "outputs": [],
   "source": [
    "from typing import List\n",
    "class State(TypedDict):\n",
    "    question: str\n",
    "    context: List[Document]\n",
    "    answer: str\n",
    "    semantic_search_text: str"
   ]
  },
  {
   "cell_type": "code",
   "execution_count": 81,
   "id": "4774c4a5-78ef-49c7-9be8-897d8edb0064",
   "metadata": {},
   "outputs": [],
   "source": [
    "def vector_search(state: State):\n",
    "    ''' Chroma vector search'''\n",
    "    print(f\"Semantic search text used: {state['semantic_search_text']}\")\n",
    "    retrieve_docs = vector_store.similarity_search(state[\"semantic_search_text\"])\n",
    "    return {\"context\":retrieve_docs}\n",
    "\n",
    "def llm_final_results(state: State):\n",
    "    doc_content = \"\\n\\n\".join(doc.page_content for doc in state[\"context\"])\n",
    "\n",
    "    message = prompt_template.invoke({\"question\":state[\"question\"], \"context\":doc_content})\n",
    "    response = model.invoke(message)\n",
    "    return {\"answer\": response.content}\n",
    "\n",
    "def llm_semantic_search_string(state: State):\n",
    "    message = prompt_template_vector_search_string.invoke({\"question\":state[\"question\"]})\n",
    "    response = model.invoke(message)\n",
    "    print(response.content)\n",
    "    return {\"semantic_search_text\": response.content}"
   ]
  },
  {
   "cell_type": "code",
   "execution_count": 82,
   "id": "ebda2211-014d-486b-8c0d-f9800a4b6770",
   "metadata": {},
   "outputs": [],
   "source": [
    "graph_builder = StateGraph(State).add_sequence([llm_semantic_search_string, vector_search, llm_final_results])\n",
    "graph_builder.add_edge(START, \"llm_semantic_search_string\")\n",
    "graph = graph_builder.compile()"
   ]
  },
  {
   "cell_type": "code",
   "execution_count": 83,
   "id": "a53e7667-e658-4559-ac27-008b8c976a65",
   "metadata": {},
   "outputs": [
    {
     "data": {
      "image/png": "[encoded data removed]",
      "text/plain": [
       "<IPython.core.display.Image object>"
      ]
     },
     "execution_count": 83,
     "metadata": {},
     "output_type": "execute_result"
    }
   ],
   "source": [
    "from IPython.display import Image\n",
    "\n",
    "Image(graph.get_graph().draw_png())"
   ]
  },
  {
   "cell_type": "code",
   "execution_count": 74,
   "id": "212012a8-31b2-4816-801d-7480c831cc2a",
   "metadata": {},
   "outputs": [
    {
     "name": "stdout",
     "output_type": "stream",
     "text": [
      "Living room furniture blue square feet 200\n",
      "Sematic search text used: Living room furniture blue square feet 200\n"
     ]
    }
   ],
   "source": [
    "response = graph.invoke({\"question\": \"I am looking for living room furniture of square feet 200 to build with all blues\"})\n"
   ]
  },
  {
   "cell_type": "code",
   "execution_count": 77,
   "id": "4279f7de-da0e-4b08-ad1b-609dde2d67a2",
   "metadata": {},
   "outputs": [
    {
     "name": "stdout",
     "output_type": "stream",
     "text": [
      "Recommendation:\n",
      "\n",
      "For a 200-square-foot living room decked out in shades of blue, I recommend focusing on creating a harmonious and cohesive look while ensuring the furniture fits perfectly within the given space. Here's a curated selection of furniture options based on your requirements:\n",
      "\n",
      "1. **Groovy Navy 2-Piece Sectional with Chaise**\n",
      "   - Dimensions: 124''W  X  40''D  X  41''H\n",
      "   - Total Width: 124 inches\n",
      "   - Features: Navy microfiber-polyester upholstery, rolled arms, chaise lounge, and stylish tapered block-style feet.\n",
      "   - Style: Glam with a sleek and modern aesthetic.\n",
      "\n",
      "   The sectional will provide ample seating for lounging and accommodates guests comfortably. The deep navy hue aligns with the blue theme, and the accent pillows add a touch of style.\n",
      "\n",
      "2. **Zoey Indigo Loveseat**\n",
      "   - Dimensions: 54''W  X  34''D  X  36''H\n",
      "   - Total Width: 54 inches\n",
      "   - Features: Indigo polyester upholstery with track arms and tapered legs.\n",
      "   - Style: Contemporary casual with a burst of color and flair.\n",
      "\n",
      "   This loveseat can complement the sectional, providing additional seating and enhancing the blue color scheme with its striking indigo fabric.\n",
      "\n",
      "**Additional Suggestions:**\n",
      "\n",
      "- **Rug:** Add a blue-patterned area rug to tie the space together and create a cozy atmosphere. Look for a rug that complements the blue hues of the sectional and loveseat.\n",
      "- **Accent Tables:** Choose wood or metal accent tables with a rustic finish to complete the look. Consider tables with a mix of wood and metal elements to add to the aesthetic.\n",
      "- **Lighting:** Incorporate rustic-style lighting fixtures, such as a pendant light or a floor lamp with a distressed finish, to enhance the theme.\n",
      "- **Decor:** Add complementing blue vases or artwork to the walls to elevate the overall design.\n",
      "\n",
      "**Total Space Calculation:**\n",
      "\n",
      "- Sectional: 124''W x 40''D (Width x Depth = 4.35' x 3.33')\n",
      "- Loveseat: 54''W x 34''D (Width x Depth = 1.83' x 2.83')\n",
      "\n",
      "Ensure you arrange the furniture considering pathways and circulation space. Given the dimensions, both pieces together should comfortably fit within the 200-square-foot area.\n",
      "\n",
      "**URLs:** \n",
      "- Groovy Navy 2-Piece Sectional: [link](https://www.americanfreight.com/pdp/groovy-navy-2-piece-sectional/363175?uid=67155064&w=al-p-il)\n",
      "- Zoey Indigo Loveseat: [link](https://www.americanfreight.com/pdp/zoey-indigo-loveseat/389272?uid=67155027&w=al-p-il)\n",
      "\n",
      "These pieces will help you achieve a fresh and inviting blue-themed living room with modern touches and comfort.\n"
     ]
    }
   ],
   "source": [
    "print(response[\"answer\"])"
   ]
  },
  {
   "cell_type": "code",
   "execution_count": null,
   "id": "e8a6f19f-5c76-4b43-a91b-5a10a2b227ed",
   "metadata": {},
   "outputs": [],
   "source": []
  }
 ],
 "metadata": {
  "kernelspec": {
   "display_name": "Python 3 (ipykernel)",
   "language": "python",
   "name": "python3"
  },
  "language_info": {
   "codemirror_mode": {
    "name": "ipython",
    "version": 3
   },
   "file_extension": ".py",
   "mimetype": "text/x-python",
   "name": "python",
   "nbconvert_exporter": "python",
   "pygments_lexer": "ipython3",
   "version": "3.11.11"
  }
 },
 "nbformat": 4,
 "nbformat_minor": 5
}
