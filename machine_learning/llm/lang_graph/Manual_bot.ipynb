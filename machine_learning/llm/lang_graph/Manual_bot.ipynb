{
 "cells": [
  {
   "cell_type": "markdown",
   "id": "65eae9df-75c1-4111-99e8-60c82cb3e4d9",
   "metadata": {},
   "source": [
    "# Creating a simple bot. \n",
    "\n",
    "See following for more details on this. \n",
    "\n",
    "### Before you start this notbook. \n",
    "Create a .env files in same place you have placed this notebook and add following two keys. You can get the API keys from respective website.  \n",
    "OPENAI_API_KEY=<<key>>  \n",
    "TAVILY_API_KEY=<<key>>"
   ]
  },
  {
   "cell_type": "code",
   "execution_count": null,
   "id": "b1bdf55f-4114-4769-99df-c9e720e8b4d3",
   "metadata": {},
   "outputs": [],
   "source": [
    "from dotenv import load_dotenv\n",
    "import os\n",
    "import httpx\n",
    "import certifi\n",
    "import ssl\n",
    "import json\n",
    "\n",
    "\n",
    "ssl_context = ssl.create_default_context(cafile=certifi.where())\n",
    "os.environ[\"SSL_CERT_FILE\"] = certifi.where() # was getting a cert error with openAI. So had to do this.\n",
    "_ = load_dotenv() # this should load the require keys for Open AI.Key should be OPENAI_API_KEY\n",
    "from openai import OpenAI"
   ]
  },
  {
   "cell_type": "code",
   "execution_count": 2,
   "id": "4b13ae7a-0d13-46eb-b7c9-d2b493352b44",
   "metadata": {},
   "outputs": [],
   "source": [
    "# if you want to view what all env variables are set\n",
    "# for k,v in os.environ.items():\n",
    "#     print(k,v)"
   ]
  },
  {
   "cell_type": "code",
   "execution_count": 3,
   "id": "262ef00c-8db2-4b99-80ba-02a5e4e8b0ee",
   "metadata": {},
   "outputs": [],
   "source": [
    "client = OpenAI()"
   ]
  },
  {
   "cell_type": "code",
   "execution_count": 4,
   "id": "fdf08e83-20b0-4bd4-b579-aa42ef38f5ba",
   "metadata": {},
   "outputs": [],
   "source": [
    "def weather_call(zip_code):\n",
    "    return f\"Weather for {zip_code} is sunny today if you want to go to the store\"\n",
    "\n",
    "\n",
    "def order_status(name):\n",
    "    print(f\"Pulling orders status for: {name}\")\n",
    "    if name in \"1234599\": \n",
    "        return(f\"Order status for {name} at zip 60502 is ready for pickup\")\n",
    "    \n",
    "    elif name in \"123455\":\n",
    "        return(\"Order is in progress and will be delivered to 60502 soon\")\n",
    "    elif name in \"123465\":\n",
    "        return(f\"Order status for {name} at zip  is ready for pickup\")\n",
    "    elif name in \"123459\":\n",
    "        return(f\"Order status for {name} is ready to be delivered to 60502 soon\")\n",
    "    else:\n",
    "        return(\"Unknown at this time.\")\n",
    "\n",
    "known_actions = {\n",
    "    \"weather_call\": weather_call,\n",
    "    \"order_status\": order_status\n",
    "}"
   ]
  },
  {
   "cell_type": "code",
   "execution_count": 5,
   "id": "37ad91c9-8752-4b86-ad97-ee171bfb28ba",
   "metadata": {},
   "outputs": [],
   "source": [
    "prompt = \"\"\"\n",
    "You run in a loop of Thought, Action, PAUSE, Observation.\n",
    "At the end of the loop you output an Answer\n",
    "Use Thought to describe your thoughts about the question you have been asked.\n",
    "Use Action to run one of the actions available to you - then return PAUSE.\n",
    "Observation will be the result of running those actions.Any other request you get you politely says sorry and can't be processed\n",
    "\n",
    "Your available actions are:\n",
    "\n",
    "order_status:\n",
    "e.g. order_status: 123456\n",
    "Runs a order_status and returns the number - Order status for the order # 12345 for Zip 60502 is Ready for Pickup.\n",
    "\n",
    "weather_call:\n",
    "e.g. weather_call(60502)\n",
    "returns Weather for that location\n",
    "\n",
    "Example session:\n",
    "\n",
    "Question: What is the status of the order 12345?\n",
    "Thought: I should lookup the order status in order_status\n",
    "Action: order_status(12345)\n",
    "PAUSE\n",
    "\n",
    "You will be called again with this:\n",
    "\n",
    "Observation: Order status for 12345 at zip 60502 is ready for pickup\n",
    "\n",
    "However if you see a Zip code with ready for pickup status you make another Action to get weather information.You can make this call in parallel or in sequence.\n",
    "\n",
    "Question: What is the status of the order 12345?\n",
    "Thought: I should lookup the order status in order_status\n",
    "Action: order_status(12345)\n",
    "PAUSE\n",
    "Observation: Order status for 12345 at zip 60502 is ready for pickup\n",
    "Thought: I should lookup the weather for 60502\n",
    "Action: weather_call(60502)\n",
    "PAUSE\n",
    "\n",
    "You then output:\n",
    "\n",
    "Answer: Order status for 12345 at zip 60502 is ready for pickup and the weather details.\n",
    "If there is any missing information from the tool you just respond back with the last available information from the tool. \n",
    "\"\"\".strip()"
   ]
  },
  {
   "cell_type": "code",
   "execution_count": 6,
   "id": "84688af5-87fb-4021-ada4-d6d28a80db2b",
   "metadata": {},
   "outputs": [],
   "source": [
    "initial_context_set = [{\"role\": \"system\", \"content\": prompt}]"
   ]
  },
  {
   "cell_type": "code",
   "execution_count": 7,
   "id": "eee18269-094a-4bc3-93c6-5a749f2138a3",
   "metadata": {},
   "outputs": [],
   "source": [
    "# Creating a chat with openAI.\n",
    "# Temperature set to 0 to get deterministic results. So the mode is less creative in response.\n",
    "# initializing the chat\n",
    "completion = client.chat.completions.create(\n",
    "                        model=\"gpt-4o\", \n",
    "                        temperature=0,\n",
    "                        messages=initial_context_set)"
   ]
  },
  {
   "cell_type": "markdown",
   "id": "75c02c7e-fd9d-49bd-a439-3b824744e14d",
   "metadata": {},
   "source": [
    "**Now imagin a customer is asking for a status on their `order#12345`**  \n",
    "You send this message to LLM to identify next steps to answer and respond to the customer   "
   ]
  },
  {
   "cell_type": "code",
   "execution_count": 8,
   "id": "07bec40f-4063-44cb-a379-c4cba70eb538",
   "metadata": {},
   "outputs": [],
   "source": [
    "message_to_llm = [\n",
    "    {\"role\": \"system\", \"content\": prompt},\n",
    "    {\"role\": \"user\", \"content\": \"What is the status of the order 1234599\" }\n",
    "]\n",
    "completion = client.chat.completions.create(\n",
    "                        model=\"gpt-4o\", \n",
    "                        temperature=0,\n",
    "                        messages=message_to_llm)"
   ]
  },
  {
   "cell_type": "code",
   "execution_count": 9,
   "id": "2324aa54-cac8-4d8a-bd31-3a581612fb7d",
   "metadata": {},
   "outputs": [
    {
     "data": {
      "text/plain": [
       "ChatCompletionMessage(content='Thought: I should lookup the order status in order_status\\nAction: order_status(1234599)\\nPAUSE', refusal=None, role='assistant', audio=None, function_call=None, tool_calls=None, annotations=[])"
      ]
     },
     "execution_count": 9,
     "metadata": {},
     "output_type": "execute_result"
    }
   ],
   "source": [
    "completion.choices[0].message"
   ]
  },
  {
   "cell_type": "markdown",
   "id": "df3cf02e-e5f8-4b06-8849-a51b6bf0d25e",
   "metadata": {},
   "source": [
    "**Here is the response from the LLM model**   \n",
    "As you can usee there is an Action to be performed before we can respond to the customer. So to get the final response from the LLM model it needs additional details"
   ]
  },
  {
   "cell_type": "code",
   "execution_count": 10,
   "id": "e808b3c3-199f-4742-9716-537c76fb8942",
   "metadata": {},
   "outputs": [
    {
     "name": "stdout",
     "output_type": "stream",
     "text": [
      "Thought: I should lookup the order status in order_status\n",
      "Action: order_status(1234599)\n",
      "PAUSE\n"
     ]
    }
   ],
   "source": [
    "print(completion.choices[0].message.content)"
   ]
  },
  {
   "cell_type": "markdown",
   "id": "4d5f9a0e-42ce-4b66-9be6-08caf4309edf",
   "metadata": {},
   "source": [
    "Performing the action **manually** to demonostrate the flow. \n",
    "`Action: order_status(1234599)`"
   ]
  },
  {
   "cell_type": "code",
   "execution_count": 11,
   "id": "1c5d4fbe-32ef-4245-a47c-e482a124b6d1",
   "metadata": {},
   "outputs": [
    {
     "name": "stdout",
     "output_type": "stream",
     "text": [
      "Pulling orders status for: 1234599\n",
      "Response from order stauts call: Order status for 1234599 at zip 60502 is ready for pickup\n"
     ]
    }
   ],
   "source": [
    "order_status_resp = order_status(\"1234599\")\n",
    "print(f\"Response from order stauts call: {order_status_resp}\")"
   ]
  },
  {
   "cell_type": "markdown",
   "id": "f3541729-aa12-4d7f-b5f0-6ab58f996201",
   "metadata": {},
   "source": [
    "**Prepare the response we got from order status to send it to the model again**"
   ]
  },
  {
   "cell_type": "code",
   "execution_count": 12,
   "id": "a765f47e-5800-4e29-92de-c2e908eca325",
   "metadata": {},
   "outputs": [
    {
     "data": {
      "text/plain": [
       "'Observation: Order status for 1234599 at zip 60502 is ready for pickup'"
      ]
     },
     "execution_count": 12,
     "metadata": {},
     "output_type": "execute_result"
    }
   ],
   "source": [
    "response_to_llm_next_prompt = \"Observation: {}\".format(order_status_resp)\n",
    "response_to_llm_next_prompt"
   ]
  },
  {
   "cell_type": "markdown",
   "id": "e8b2ca34-197f-4ce2-95d1-4f8afe14759d",
   "metadata": {},
   "source": [
    "Prepare the above input to the LLM"
   ]
  },
  {
   "cell_type": "code",
   "execution_count": 13,
   "id": "8383632e-9d9f-4bda-bdb7-a27d04c705af",
   "metadata": {},
   "outputs": [],
   "source": [
    "message_to_llm = [\n",
    "    {\"role\": \"system\", \"content\": prompt},\n",
    "    {\"role\": \"user\", \"content\": \"What is the status of the order 1234599\" },\n",
    "     {\"role\": \"user\", \"content\": response_to_llm_next_prompt }\n",
    "]\n",
    "completion = client.chat.completions.create(\n",
    "                        model=\"gpt-4o\", \n",
    "                        temperature=0,\n",
    "                        messages=message_to_llm)"
   ]
  },
  {
   "cell_type": "code",
   "execution_count": 14,
   "id": "664b0b7a-6b40-4e0d-869c-39877ed17ff8",
   "metadata": {},
   "outputs": [
    {
     "name": "stdout",
     "output_type": "stream",
     "text": [
      "Thought: I should lookup the weather for 60502\n",
      "Action: weather_call(60502)\n",
      "PAUSE\n"
     ]
    }
   ],
   "source": [
    "print(completion.choices[0].message.content)"
   ]
  },
  {
   "cell_type": "markdown",
   "id": "643b03c8-c9c0-47f0-85b1-abc1b79ecc73",
   "metadata": {},
   "source": [
    "As you can see above LLM discovered that there is a zip code in the inputs to it. So it is asking for a weather to finalize the response to customer"
   ]
  },
  {
   "cell_type": "markdown",
   "id": "deae6b39-6b20-4f3c-a800-1810b693e782",
   "metadata": {},
   "source": [
    "**Get weather information and prepare the response back to LLM**"
   ]
  },
  {
   "cell_type": "code",
   "execution_count": 39,
   "id": "041215fc-4d7c-4e5d-a781-f32f3ae4946d",
   "metadata": {},
   "outputs": [
    {
     "data": {
      "text/plain": [
       "'Weather for 60502 is sunny today'"
      ]
     },
     "execution_count": 39,
     "metadata": {},
     "output_type": "execute_result"
    }
   ],
   "source": [
    "weather_call = weather_call(\"60502\")\n",
    "weather_call"
   ]
  },
  {
   "cell_type": "code",
   "execution_count": 42,
   "id": "28cc80a2-7aec-41c8-b69f-c9eed2b06e8b",
   "metadata": {},
   "outputs": [
    {
     "data": {
      "text/plain": [
       "'Observation: Weather for 60502 is sunny today'"
      ]
     },
     "execution_count": 42,
     "metadata": {},
     "output_type": "execute_result"
    }
   ],
   "source": [
    "response_weather_to_llm_next_prompt = \"Observation: {}\".format(weather_call)\n",
    "response_weather_to_llm_next_prompt"
   ]
  },
  {
   "cell_type": "code",
   "execution_count": 43,
   "id": "3abad65c-a4bf-4ec1-810d-e7156f05a934",
   "metadata": {},
   "outputs": [],
   "source": [
    "message_to_llm = [\n",
    "    {\"role\": \"system\", \"content\": prompt},\n",
    "    {\"role\": \"user\", \"content\": \"What is the status of the order 1234599\" },\n",
    "     {\"role\": \"user\", \"content\": response_to_llm_next_prompt },\n",
    "    {\"role\": \"user\", \"content\": response_weather_to_llm_next_prompt }\n",
    "]\n",
    "completion = client.chat.completions.create(\n",
    "                        model=\"gpt-4o\", \n",
    "                        temperature=0,\n",
    "                        messages=message_to_llm)"
   ]
  },
  {
   "cell_type": "markdown",
   "id": "00cb6a78-247d-49b6-a18d-f95642eb2c66",
   "metadata": {},
   "source": [
    "### Final response to the customer"
   ]
  },
  {
   "cell_type": "code",
   "execution_count": 44,
   "id": "15f42cb1-5312-430a-b53d-faffc08ac224",
   "metadata": {},
   "outputs": [
    {
     "name": "stdout",
     "output_type": "stream",
     "text": [
      "Answer: Order status for 12345 at zip 60502 is ready for pickup and the weather is sunny today.\n"
     ]
    }
   ],
   "source": [
    "print(completion.choices[0].message.content)"
   ]
  },
  {
   "cell_type": "markdown",
   "id": "fe74c370-424e-4166-9d19-2ba2b9f08f84",
   "metadata": {},
   "source": [
    "## A scenario where cusomer does not provide an order number"
   ]
  },
  {
   "cell_type": "code",
   "execution_count": 46,
   "id": "3f711818-0841-4e8d-840e-195482beb24f",
   "metadata": {},
   "outputs": [],
   "source": [
    "message_to_llm = [\n",
    "    {\"role\": \"system\", \"content\": prompt},\n",
    "    {\"role\": \"user\", \"content\": \"What is the status of the order\" }\n",
    "]\n",
    "completion = client.chat.completions.create(\n",
    "                        model=\"gpt-4o\", \n",
    "                        temperature=0,\n",
    "                        messages=message_to_llm)"
   ]
  },
  {
   "cell_type": "code",
   "execution_count": 47,
   "id": "700af533-5ff4-4a13-94c7-e48823c0075f",
   "metadata": {},
   "outputs": [
    {
     "name": "stdout",
     "output_type": "stream",
     "text": [
      "Sorry, I can't process that request without an order number. Please provide the order number to check the status.\n"
     ]
    }
   ],
   "source": [
    "print(completion.choices[0].message.content)"
   ]
  },
  {
   "cell_type": "markdown",
   "id": "0a73d02f-7525-4b2f-903c-93dc75738137",
   "metadata": {},
   "source": [
    "## A scenario where there is no zip available"
   ]
  },
  {
   "cell_type": "code",
   "execution_count": 65,
   "id": "25a9f881-8244-43a8-8253-510f06b75be7",
   "metadata": {},
   "outputs": [],
   "source": [
    "message_to_llm = [\n",
    "    {\"role\": \"system\", \"content\": prompt},\n",
    "    {\"role\": \"user\", \"content\": \"What is the status of the order 123465\" }\n",
    "]\n",
    "completion = client.chat.completions.create(\n",
    "                        model=\"gpt-4o\", \n",
    "                        temperature=0,\n",
    "                        messages=message_to_llm)"
   ]
  },
  {
   "cell_type": "code",
   "execution_count": 66,
   "id": "c053085a-3017-4e31-bdbe-2638b4daa7af",
   "metadata": {},
   "outputs": [
    {
     "name": "stdout",
     "output_type": "stream",
     "text": [
      "Response from order stauts call: Order status for 12345 at zip  is ready for pickup\n"
     ]
    }
   ],
   "source": [
    "order_status_resp = order_status(\"123465\")\n",
    "print(f\"Response from order stauts call: {order_status_resp}\")"
   ]
  },
  {
   "cell_type": "code",
   "execution_count": 67,
   "id": "79bc898f-b080-4043-aee5-2c9d5eeb35c8",
   "metadata": {},
   "outputs": [
    {
     "data": {
      "text/plain": [
       "'Observation: Order status for 12345 at zip  is ready for pickup'"
      ]
     },
     "execution_count": 67,
     "metadata": {},
     "output_type": "execute_result"
    }
   ],
   "source": [
    "response_to_llm_next_prompt = \"Observation: {}\".format(order_status_resp)\n",
    "response_to_llm_next_prompt"
   ]
  },
  {
   "cell_type": "code",
   "execution_count": 68,
   "id": "9ad884a2-0fad-4d56-8c79-b12ebf83008e",
   "metadata": {},
   "outputs": [],
   "source": [
    "message_to_llm = [\n",
    "    {\"role\": \"system\", \"content\": prompt},\n",
    "    {\"role\": \"user\", \"content\": \"What is the status of the order 123465\" },\n",
    "     {\"role\": \"user\", \"content\": response_to_llm_next_prompt }\n",
    "]\n",
    "completion = client.chat.completions.create(\n",
    "                        model=\"gpt-4o\", \n",
    "                        temperature=0,\n",
    "                        messages=message_to_llm)"
   ]
  },
  {
   "cell_type": "markdown",
   "id": "8c7b8090-a059-4b71-b7d5-c67e57a1a1f5",
   "metadata": {},
   "source": [
    "### Final response to the customer"
   ]
  },
  {
   "cell_type": "code",
   "execution_count": 69,
   "id": "4ce850ac-a71c-4726-9d07-0ecc3db17e63",
   "metadata": {},
   "outputs": [
    {
     "name": "stdout",
     "output_type": "stream",
     "text": [
      "Answer: Order status for 12345 is ready for pickup.\n"
     ]
    }
   ],
   "source": [
    "print(completion.choices[0].message.content)"
   ]
  },
  {
   "cell_type": "markdown",
   "id": "8c454bbe-4f09-4d72-b548-86c3bf8b8930",
   "metadata": {},
   "source": [
    "# Using Tool (better approach)"
   ]
  },
  {
   "cell_type": "code",
   "execution_count": 214,
   "id": "c0049b71-dacf-4bae-92b2-cfc462bf0327",
   "metadata": {},
   "outputs": [],
   "source": [
    "\n",
    "client2 = OpenAI()\n",
    "\n",
    "tools = [{\n",
    "    \"type\": \"function\",\n",
    "    \"function\": {\n",
    "        \"name\": \"weather_call\",\n",
    "        \"description\": \"Get current temperature for a given location.\",\n",
    "        \"parameters\": {\n",
    "            \"type\": \"object\",\n",
    "            \"properties\": {\n",
    "                \"zip_code\": {\n",
    "                    \"type\": \"string\",\n",
    "                    \"description\": \"Zip code\"\n",
    "                }\n",
    "            },\n",
    "            \"required\": [\n",
    "                \"zip_code\"\n",
    "            ],\n",
    "            \"additionalProperties\": False\n",
    "        },\n",
    "        \"strict\": True\n",
    "    }\n",
    "},{\n",
    "    \"type\": \"function\",\n",
    "    \"function\": {\n",
    "        \"name\": \"order_status\",\n",
    "        \"description\": \"Get current order status.\",\n",
    "        \"parameters\": {\n",
    "            \"type\": \"object\",\n",
    "            \"properties\": {\n",
    "                \"order_id\": {\n",
    "                    \"type\": \"string\",\n",
    "                    \"description\": \"Oorder id \"\n",
    "                }\n",
    "            },\n",
    "            \"required\": [\n",
    "                \"order_id\"\n",
    "            ],\n",
    "            \"additionalProperties\": False\n",
    "        },\n",
    "        \"strict\": True\n",
    "    }\n",
    "}\n",
    "         \n",
    "        ]\n",
    "\n"
   ]
  },
  {
   "cell_type": "code",
   "execution_count": 215,
   "id": "126def14-7d15-4d79-9b71-f0231e799824",
   "metadata": {},
   "outputs": [],
   "source": [
    "prompt_for_tooling = \"\"\"\n",
    "You are retial ecom bot agent. You are capabale of giving order status info along with weather based on the order zip availability. \n",
    "Order Zip will be returned by order_status and not consider the zip code provided by users.\n",
    "Any other request you get you politely says sorry and can't be processed\n",
    "\n",
    "Your available function are:\n",
    "\n",
    "order_status\n",
    "\n",
    "weather_call\n",
    "\n",
    "You then output:\n",
    "Order status for 12345 at zip 60502 is ready for pickup and the weather details are...\n",
    "\n",
    "If there is any missing information from the tool you just respond back with the last available information from the tool. \n",
    "\"\"\".strip()"
   ]
  },
  {
   "cell_type": "code",
   "execution_count": 216,
   "id": "7040a187-ee2a-49e8-86a3-5b9ca70f81e7",
   "metadata": {},
   "outputs": [],
   "source": [
    "messages = [\n",
    "    {\"role\": \"system\", \"content\": prompt_for_tooling},\n",
    "     {\"role\": \"user\", \"content\": \"What is the status of the order 1234599\"}\n",
    "]"
   ]
  },
  {
   "cell_type": "code",
   "execution_count": 219,
   "id": "f0e8e211-02ec-4f94-8155-c3e2c899c3d4",
   "metadata": {},
   "outputs": [
    {
     "name": "stdout",
     "output_type": "stream",
     "text": [
      "[ChatCompletionMessageToolCall(id='call_5itmdTYu72PJxibkOb4vyQz8', function=Function(arguments='{\"order_id\":\"1234599\"}', name='order_status'), type='function')]\n"
     ]
    }
   ],
   "source": [
    "completion = client2.chat.completions.create(\n",
    "    model=\"gpt-4o\",\n",
    "    messages=messages,\n",
    "    tools=tools\n",
    ")\n",
    "\n"
   ]
  },
  {
   "cell_type": "code",
   "execution_count": 250,
   "id": "bc23fdce-68bb-4e97-8197-3461b4615aed",
   "metadata": {},
   "outputs": [
    {
     "name": "stdout",
     "output_type": "stream",
     "text": [
      "ChatCompletion(id='chatcmpl-BA1Grm4JWGuP46tjvvnyEIB56lYTD', choices=[Choice(finish_reason='tool_calls', index=0, logprobs=None, message=ChatCompletionMessage(content=None, refusal=None, role='assistant', audio=None, function_call=None, tool_calls=[ChatCompletionMessageToolCall(id='call_5itmdTYu72PJxibkOb4vyQz8', function=Function(arguments='{\"order_id\":\"1234599\"}', name='order_status'), type='function')], annotations=[]))], created=1741727865, model='gpt-4o-2024-08-06', object='chat.completion', service_tier='default', system_fingerprint='fp_eb9dce56a8', usage=CompletionUsage(completion_tokens=18, prompt_tokens=206, total_tokens=224, completion_tokens_details=CompletionTokensDetails(accepted_prediction_tokens=0, audio_tokens=0, reasoning_tokens=0, rejected_prediction_tokens=0), prompt_tokens_details=PromptTokensDetails(audio_tokens=0, cached_tokens=0)))\n"
     ]
    }
   ],
   "source": [
    "print(completion)"
   ]
  },
  {
   "cell_type": "code",
   "execution_count": 237,
   "id": "31c796a3-478c-4b48-a896-b82a79d8bd10",
   "metadata": {},
   "outputs": [],
   "source": [
    "def get_tool_response(completion):\n",
    "    assistant_message = completion.choices[0].message\n",
    "    \n",
    "    # Convert to dictionary\n",
    "    assistant_dict = {\n",
    "        \"role\": assistant_message.role,\n",
    "        \"content\": assistant_message.content,  # Will be None in tool calls\n",
    "        \"tool_calls\": [\n",
    "            {\n",
    "                \"id\": tool_call.id,\n",
    "                \"type\": tool_call.type,\n",
    "                \"function\": {\n",
    "                    \"name\": tool_call.function.name,\n",
    "                    \"arguments\": tool_call.function.arguments\n",
    "                }\n",
    "            }\n",
    "            for tool_call in (assistant_message.tool_calls or [])\n",
    "        ]\n",
    "    }\n",
    "    return assistant_dict"
   ]
  },
  {
   "cell_type": "code",
   "execution_count": 239,
   "id": "5d505372-3241-448d-9cda-b01f9acbe493",
   "metadata": {},
   "outputs": [
    {
     "data": {
      "text/plain": [
       "{'role': 'assistant',\n",
       " 'content': None,\n",
       " 'tool_calls': [{'id': 'call_5itmdTYu72PJxibkOb4vyQz8',\n",
       "   'type': 'function',\n",
       "   'function': {'name': 'order_status',\n",
       "    'arguments': '{\"order_id\":\"1234599\"}'}}]}"
      ]
     },
     "execution_count": 239,
     "metadata": {},
     "output_type": "execute_result"
    }
   ],
   "source": [
    "assistant_dict = get_tool_response(completion)\n",
    "assistant_dict"
   ]
  },
  {
   "cell_type": "code",
   "execution_count": 222,
   "id": "ab8c7f17-3f84-45bf-b299-8a7b90238b83",
   "metadata": {},
   "outputs": [],
   "source": [
    "tool_call = completion.choices[0].message.tool_calls[0]\n",
    "args = json.loads(tool_call.function.arguments)"
   ]
  },
  {
   "cell_type": "code",
   "execution_count": 223,
   "id": "999f7a76-12f9-48f4-921c-242fbdcb119f",
   "metadata": {},
   "outputs": [
    {
     "data": {
      "text/plain": [
       "ChatCompletionMessageToolCall(id='call_5itmdTYu72PJxibkOb4vyQz8', function=Function(arguments='{\"order_id\":\"1234599\"}', name='order_status'), type='function')"
      ]
     },
     "execution_count": 223,
     "metadata": {},
     "output_type": "execute_result"
    }
   ],
   "source": [
    "tool_call"
   ]
  },
  {
   "cell_type": "code",
   "execution_count": 224,
   "id": "054dcab1-d1c1-4ab2-9fe1-7dd5ad211ea4",
   "metadata": {},
   "outputs": [
    {
     "data": {
      "text/plain": [
       "{'order_id': '1234599'}"
      ]
     },
     "execution_count": 224,
     "metadata": {},
     "output_type": "execute_result"
    }
   ],
   "source": [
    "args"
   ]
  },
  {
   "cell_type": "markdown",
   "id": "75b4b1fb-f8ff-4b71-9c3e-f56a657c9099",
   "metadata": {},
   "source": [
    "**Now we call the tools based on the above response from LLM**"
   ]
  },
  {
   "cell_type": "code",
   "execution_count": 225,
   "id": "e6c453a1-2e5f-4dde-866f-e03d14900346",
   "metadata": {},
   "outputs": [
    {
     "data": {
      "text/plain": [
       "'order_status'"
      ]
     },
     "execution_count": 225,
     "metadata": {},
     "output_type": "execute_result"
    }
   ],
   "source": [
    "tool_call.function.name"
   ]
  },
  {
   "cell_type": "code",
   "execution_count": 226,
   "id": "ffa0acbf-2c00-4ae4-a7e3-7bc16a69004d",
   "metadata": {},
   "outputs": [
    {
     "data": {
      "text/plain": [
       "'call_5itmdTYu72PJxibkOb4vyQz8'"
      ]
     },
     "execution_count": 226,
     "metadata": {},
     "output_type": "execute_result"
    }
   ],
   "source": [
    "tool_call.id"
   ]
  },
  {
   "cell_type": "code",
   "execution_count": 227,
   "id": "6a26b9e1-d293-408e-99cd-09d68968e509",
   "metadata": {},
   "outputs": [
    {
     "data": {
      "text/plain": [
       "'1234599'"
      ]
     },
     "execution_count": 227,
     "metadata": {},
     "output_type": "execute_result"
    }
   ],
   "source": [
    "args[\"order_id\"]"
   ]
  },
  {
   "cell_type": "code",
   "execution_count": 228,
   "id": "d2ab3726-3984-4834-85d9-3c446d2f4f3c",
   "metadata": {},
   "outputs": [
    {
     "name": "stdout",
     "output_type": "stream",
     "text": [
      "Pulling orders status for: 1234599\n"
     ]
    }
   ],
   "source": [
    "result = eval(tool_call.function.name)(args[\"order_id\"])"
   ]
  },
  {
   "cell_type": "code",
   "execution_count": 229,
   "id": "8af626d0-78dc-48fe-bca5-96f48d1ddac2",
   "metadata": {},
   "outputs": [
    {
     "data": {
      "text/plain": [
       "'Order status for 1234599 at zip 60502 is ready for pickup'"
      ]
     },
     "execution_count": 229,
     "metadata": {},
     "output_type": "execute_result"
    }
   ],
   "source": [
    "result"
   ]
  },
  {
   "cell_type": "code",
   "execution_count": 230,
   "id": "e702e78e-396b-4299-80b5-17fe64805b15",
   "metadata": {},
   "outputs": [
    {
     "name": "stdout",
     "output_type": "stream",
     "text": [
      "Tool Call ID: call_5itmdTYu72PJxibkOb4vyQz8\n"
     ]
    }
   ],
   "source": [
    "print(f\"Tool Call ID: {tool_call.id}\") "
   ]
  },
  {
   "cell_type": "code",
   "execution_count": 232,
   "id": "edb8c75d-4299-4ced-bb62-33f77685ec38",
   "metadata": {},
   "outputs": [
    {
     "data": {
      "text/plain": [
       "[{'role': 'system',\n",
       "  'content': \"You are retial ecom bot agent. You are capabale of giving order status info along with weather based on the order zip availability. \\nOrder Zip will be returned by order_status and not consider the zip code provided by users.\\nAny other request you get you politely says sorry and can't be processed\\n\\nYour available function are:\\n\\norder_status\\n\\nweather_call\\n\\nYou then output:\\nOrder status for 12345 at zip 60502 is ready for pickup and the weather details are...\\n\\nIf there is any missing information from the tool you just respond back with the last available information from the tool.\"},\n",
       " {'role': 'user', 'content': 'What is the status of the order 1234599'}]"
      ]
     },
     "execution_count": 232,
     "metadata": {},
     "output_type": "execute_result"
    }
   ],
   "source": [
    "messages"
   ]
  },
  {
   "cell_type": "code",
   "execution_count": 233,
   "id": "f7602032-803e-497a-bf73-0e7ad5d49b24",
   "metadata": {},
   "outputs": [],
   "source": [
    "messages.append(assistant_dict)"
   ]
  },
  {
   "cell_type": "code",
   "execution_count": 234,
   "id": "6d594ac1-2397-4688-ba09-3ae743df8bfe",
   "metadata": {},
   "outputs": [],
   "source": [
    "messages.append(\n",
    "    {\"role\": \"tool\", \"content\": str(result), \"tool_call_id\": tool_call.id}\n",
    ")"
   ]
  },
  {
   "cell_type": "code",
   "execution_count": 235,
   "id": "797edc45-1c73-4b11-97e0-0443f9941886",
   "metadata": {},
   "outputs": [
    {
     "data": {
      "text/plain": [
       "[{'role': 'system',\n",
       "  'content': \"You are retial ecom bot agent. You are capabale of giving order status info along with weather based on the order zip availability. \\nOrder Zip will be returned by order_status and not consider the zip code provided by users.\\nAny other request you get you politely says sorry and can't be processed\\n\\nYour available function are:\\n\\norder_status\\n\\nweather_call\\n\\nYou then output:\\nOrder status for 12345 at zip 60502 is ready for pickup and the weather details are...\\n\\nIf there is any missing information from the tool you just respond back with the last available information from the tool.\"},\n",
       " {'role': 'user', 'content': 'What is the status of the order 1234599'},\n",
       " {'role': 'assistant',\n",
       "  'content': None,\n",
       "  'tool_calls': [{'id': 'call_5itmdTYu72PJxibkOb4vyQz8',\n",
       "    'type': 'function',\n",
       "    'function': {'name': 'order_status',\n",
       "     'arguments': '{\"order_id\":\"1234599\"}'}}]},\n",
       " {'role': 'tool',\n",
       "  'content': 'Order status for 1234599 at zip 60502 is ready for pickup',\n",
       "  'tool_call_id': 'call_5itmdTYu72PJxibkOb4vyQz8'}]"
      ]
     },
     "execution_count": 235,
     "metadata": {},
     "output_type": "execute_result"
    }
   ],
   "source": [
    "messages"
   ]
  },
  {
   "cell_type": "code",
   "execution_count": 243,
   "id": "026e2018-d2d2-48e6-80e1-2b7147398684",
   "metadata": {},
   "outputs": [
    {
     "name": "stdout",
     "output_type": "stream",
     "text": [
      "ChatCompletionMessage(content=None, refusal=None, role='assistant', audio=None, function_call=None, tool_calls=[ChatCompletionMessageToolCall(id='call_z6WnFZwalaGtQzZyCi9bH2j6', function=Function(arguments='{\"zip_code\":\"60502\"}', name='weather_call'), type='function')], annotations=[])\n"
     ]
    }
   ],
   "source": [
    "completion_2 = client2.chat.completions.create(\n",
    "    model=\"gpt-4o\",\n",
    "    messages=messages,\n",
    "    tools=tools\n",
    ")\n",
    "\n",
    "print(completion_2.choices[0].message)"
   ]
  },
  {
   "cell_type": "code",
   "execution_count": 249,
   "id": "8c6db824-c532-4b48-96c9-8df959ebec9f",
   "metadata": {},
   "outputs": [
    {
     "data": {
      "text/plain": [
       "ChatCompletion(id='chatcmpl-BA1OZXQWE0XkywHsiktsMTx70ASVH', choices=[Choice(finish_reason='tool_calls', index=0, logprobs=None, message=ChatCompletionMessage(content=None, refusal=None, role='assistant', audio=None, function_call=None, tool_calls=[ChatCompletionMessageToolCall(id='call_z6WnFZwalaGtQzZyCi9bH2j6', function=Function(arguments='{\"zip_code\":\"60502\"}', name='weather_call'), type='function')], annotations=[]))], created=1741728343, model='gpt-4o-2024-08-06', object='chat.completion', service_tier='default', system_fingerprint='fp_eb9dce56a8', usage=CompletionUsage(completion_tokens=17, prompt_tokens=247, total_tokens=264, completion_tokens_details=CompletionTokensDetails(accepted_prediction_tokens=0, audio_tokens=0, reasoning_tokens=0, rejected_prediction_tokens=0), prompt_tokens_details=PromptTokensDetails(audio_tokens=0, cached_tokens=0)))"
      ]
     },
     "execution_count": 249,
     "metadata": {},
     "output_type": "execute_result"
    }
   ],
   "source": [
    "completion_2"
   ]
  },
  {
   "cell_type": "markdown",
   "id": "3677ab7a-02cb-4b57-8aee-88fee8506981",
   "metadata": {},
   "source": [
    "**Now as you can see above we are getting a tool_call to be made for zip**"
   ]
  },
  {
   "cell_type": "code",
   "execution_count": 244,
   "id": "3a16cc25-c828-4b1e-892c-63774a3c1c7e",
   "metadata": {},
   "outputs": [],
   "source": [
    "tool_call = completion_2.choices[0].message.tool_calls[0]\n",
    "args = json.loads(tool_call.function.arguments)"
   ]
  },
  {
   "cell_type": "code",
   "execution_count": 245,
   "id": "ebd851fd-37d3-4d22-9bd1-7364241888b1",
   "metadata": {},
   "outputs": [
    {
     "data": {
      "text/plain": [
       "'Weather for 60502 is sunny today if you want to go to the store'"
      ]
     },
     "execution_count": 245,
     "metadata": {},
     "output_type": "execute_result"
    }
   ],
   "source": [
    "zip_results = eval(tool_call.function.name)(**args)\n",
    "zip_results"
   ]
  },
  {
   "cell_type": "code",
   "execution_count": 246,
   "id": "3622bbae-1d11-4c8d-961b-7120cec73f86",
   "metadata": {},
   "outputs": [
    {
     "data": {
      "text/plain": [
       "{'role': 'assistant',\n",
       " 'content': None,\n",
       " 'tool_calls': [{'id': 'call_z6WnFZwalaGtQzZyCi9bH2j6',\n",
       "   'type': 'function',\n",
       "   'function': {'name': 'weather_call', 'arguments': '{\"zip_code\":\"60502\"}'}}]}"
      ]
     },
     "execution_count": 246,
     "metadata": {},
     "output_type": "execute_result"
    }
   ],
   "source": [
    "assistant_dict = get_tool_response(completion_2)\n",
    "assistant_dict"
   ]
  },
  {
   "cell_type": "code",
   "execution_count": 247,
   "id": "213ba675-3a81-4d86-a5eb-8d259739d1c6",
   "metadata": {},
   "outputs": [
    {
     "data": {
      "text/plain": [
       "[{'role': 'system',\n",
       "  'content': \"You are retial ecom bot agent. You are capabale of giving order status info along with weather based on the order zip availability. \\nOrder Zip will be returned by order_status and not consider the zip code provided by users.\\nAny other request you get you politely says sorry and can't be processed\\n\\nYour available function are:\\n\\norder_status\\n\\nweather_call\\n\\nYou then output:\\nOrder status for 12345 at zip 60502 is ready for pickup and the weather details are...\\n\\nIf there is any missing information from the tool you just respond back with the last available information from the tool.\"},\n",
       " {'role': 'user', 'content': 'What is the status of the order 1234599'},\n",
       " {'role': 'assistant',\n",
       "  'content': None,\n",
       "  'tool_calls': [{'id': 'call_5itmdTYu72PJxibkOb4vyQz8',\n",
       "    'type': 'function',\n",
       "    'function': {'name': 'order_status',\n",
       "     'arguments': '{\"order_id\":\"1234599\"}'}}]},\n",
       " {'role': 'tool',\n",
       "  'content': 'Order status for 1234599 at zip 60502 is ready for pickup',\n",
       "  'tool_call_id': 'call_5itmdTYu72PJxibkOb4vyQz8'},\n",
       " {'role': 'assistant',\n",
       "  'content': None,\n",
       "  'tool_calls': [{'id': 'call_z6WnFZwalaGtQzZyCi9bH2j6',\n",
       "    'type': 'function',\n",
       "    'function': {'name': 'weather_call',\n",
       "     'arguments': '{\"zip_code\":\"60502\"}'}}]}]"
      ]
     },
     "execution_count": 247,
     "metadata": {},
     "output_type": "execute_result"
    }
   ],
   "source": [
    "messages.append(assistant_dict)\n",
    "messages"
   ]
  },
  {
   "cell_type": "code",
   "execution_count": 253,
   "id": "bc79835a-9200-4096-ad1b-5a58b7c5c3fd",
   "metadata": {},
   "outputs": [],
   "source": [
    "# messages.pop()"
   ]
  },
  {
   "cell_type": "code",
   "execution_count": 254,
   "id": "6c57153d-b053-4b5c-9f79-c1f9638ae798",
   "metadata": {},
   "outputs": [
    {
     "name": "stdout",
     "output_type": "stream",
     "text": [
      "ChatCompletionMessage(content='Order status for 1234599 at zip 60502 is ready for pickup and the weather details are sunny if you want to go to the store.', refusal=None, role='assistant', audio=None, function_call=None, tool_calls=None, annotations=[])\n"
     ]
    }
   ],
   "source": [
    "messages.append(\n",
    "    {\"role\": \"tool\", \"content\": zip_results, \"tool_call_id\": tool_call.id}\n",
    ")\n",
    "\n",
    "completion = client.chat.completions.create(\n",
    "    model=\"gpt-4o\",\n",
    "    messages=messages,\n",
    "    tools=tools\n",
    ")\n",
    "\n",
    "print(completion.choices[0].message)"
   ]
  },
  {
   "cell_type": "code",
   "execution_count": 255,
   "id": "081a03c1-9f42-4e96-a05c-2104f16258d7",
   "metadata": {},
   "outputs": [
    {
     "name": "stdout",
     "output_type": "stream",
     "text": [
      "Order status for 1234599 at zip 60502 is ready for pickup and the weather details are sunny if you want to go to the store.\n"
     ]
    }
   ],
   "source": [
    "print(completion.choices[0].message.content)"
   ]
  },
  {
   "cell_type": "code",
   "execution_count": null,
   "id": "37e9a0b7-aafb-419e-9edc-48708d7d8075",
   "metadata": {},
   "outputs": [],
   "source": []
  }
 ],
 "metadata": {
  "kernelspec": {
   "display_name": "Python 3 (ipykernel)",
   "language": "python",
   "name": "python3"
  },
  "language_info": {
   "codemirror_mode": {
    "name": "ipython",
    "version": 3
   },
   "file_extension": ".py",
   "mimetype": "text/x-python",
   "name": "python",
   "nbconvert_exporter": "python",
   "pygments_lexer": "ipython3",
   "version": "3.11.11"
  }
 },
 "nbformat": 4,
 "nbformat_minor": 5
}
